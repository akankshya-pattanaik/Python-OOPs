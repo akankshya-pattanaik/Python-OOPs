{
  "nbformat": 4,
  "nbformat_minor": 0,
  "metadata": {
    "colab": {
      "provenance": []
    },
    "kernelspec": {
      "name": "python3",
      "display_name": "Python 3"
    },
    "language_info": {
      "name": "python"
    }
  },
  "cells": [
    {
      "cell_type": "markdown",
      "source": [
        "Q1. What is Object-Oriented Programming (OOP)?\n",
        "\n",
        "Ans:\n",
        "Object-Oriented Programming (OOP) is a programming paradigm based on the concept of objects, which represent real-world entities. These objects contain data (attributes/properties) and behavior (methods/functions).\n",
        "\n",
        "Key Principles of OOP (4 Pillars):\n",
        "\n",
        "1. Encapsulation\n",
        "- Bundling of data (attributes) and methods (functions) that operate on the data into a single unit (class).\n",
        "- Restricts direct access to some data for security and controlled interaction.\n",
        "- Example: A bank account class where balance is private and can only be modified through deposit/withdraw methods.\n",
        "\n",
        "2. Abstraction\n",
        "- Hiding unnecessary details and showing only the essential features.\n",
        "- Focuses on what an object does, not how it does it.\n",
        "- Example: A \"Car\" class exposes drive() and brake() methods without showing the internal engine mechanism.\n",
        "\n",
        "3. Inheritance\n",
        "- A mechanism to create a new class from an existing class.\n",
        "- Promotes code reusability.\n",
        "- Example: A \"Dog\" class inherits from an \"Animal\" class, reusing properties like eat() and sleep().\n",
        "\n",
        "4. Polymorphism\n",
        "- The ability of objects to take many forms.\n",
        "- Methods can be defined in multiple ways (overriding/overloading).\n",
        "- Example: The method sound() behaves differently for Dog (barks) and Cat (meows)."
      ],
      "metadata": {
        "id": "l0ry_HxuGiAx"
      }
    },
    {
      "cell_type": "markdown",
      "source": [
        "Q2.  What is a class in OOP?\n",
        "\n",
        "Ans:\n",
        "In Object-Oriented Programming (OOP), a class is a blueprint (template) for creating objects.\n",
        "\n",
        "- It defines attributes (data/properties) and methods (functions/behaviors) that its objects will have.\n",
        "- An object is an instance of a class.\n",
        "\n",
        "#Key Points about a Class:\n",
        "1. A class does not occupy memory until an object is created from it.\n",
        "2. It groups related variables and functions together.\n",
        "3. Classes support encapsulation, abstraction, inheritance, and polymorphism."
      ],
      "metadata": {
        "id": "ipX-8uXhKrzD"
      }
    },
    {
      "cell_type": "markdown",
      "source": [
        "Q3. What is an object in OOP?\n",
        "\n",
        "Ans:\n",
        "In Object-Oriented Programming (OOP), an object is a real-world entity created from a class.\n",
        "- If a class is a blueprint, then an object is the actual instance built from that blueprint.\n",
        "- Each object has its own data (attributes/properties) and can perform actions (methods/behaviors) defined in the class.\n",
        "\n",
        "#Key Points about Objects:\n",
        "1. Instance of a class – Objects are created using a class.\n",
        "2. Occupies memory – Unlike a class, objects take up memory space.\n",
        "3. State + Behavior\n",
        "- State (attributes): What an object has (e.g., color, model).\n",
        "- Behavior (methods): What an object does (e.g., drive, brake)."
      ],
      "metadata": {
        "id": "qE05wsdmLF5J"
      }
    },
    {
      "cell_type": "markdown",
      "source": [
        "Q4. What is the difference between abstraction and encapsulation?\n",
        "\n",
        "Ans:\n",
        "#Abstraction\n",
        "\n",
        "Focus: Hiding implementation details, showing only essential features\n",
        "- Abstraction is the process of showing only what is necessary and hiding the complex background logic.\n",
        "- It answers \"What does the object do?\", not \"How does it do it?\".\n",
        "- Achieved in OOP using abstract classes and interfaces.\n",
        "\n",
        "Example (Real life):\n",
        "- When you drive a car, you use the steering wheel, accelerator, and brakes. You don’t need to know how the engine works internally.\n",
        "\n",
        "#Encapsulation\n",
        "\n",
        "Focus: Restricting direct access to data, allowing controlled interaction\n",
        "- Encapsulation is the process of wrapping data (variables) and methods (functions) together inside a class.\n",
        "- It hides the data fields of a class and provides controlled access through getters and setters.\n",
        "- Achieved in OOP using access modifiers (private, protected, public).\n",
        "\n",
        "Example (Real life):\n",
        "\n",
        "A bank account: You can deposit or withdraw money using provided methods, but you cannot directly access or modify the balance.\n"
      ],
      "metadata": {
        "id": "JAldh9pGLh1-"
      }
    },
    {
      "cell_type": "markdown",
      "source": [
        "Q5. What are dunder methods in Python?\n",
        "\n",
        "Ans:\n",
        "#Dunder Methods\n",
        "- Dunder = Double UNDerscore.\n",
        "- These are special built-in methods in Python that have names starting and ending with two underscores (__method__).\n",
        "- They are also called magic methods because they allow us to define how objects of a class behave with built-in operations.\n",
        "\n",
        "Examples of Dunder Methods\n",
        "\n",
        "1. __init__ → Constructor (runs when an object is created)\n",
        "\n",
        "class Person:\n",
        "\n",
        "    def __init__(self, name):\n",
        "        self.name = name\n",
        "\n",
        "p = Person(\"Akankshya\")\n",
        "\n",
        "print(p.name)  # Akankshya\n",
        "\n",
        "\n",
        "2. __str__ → Defines how the object is represented as a string (used with print())\n",
        "\n",
        "class Person:\n",
        "\n",
        "    def __init__(self, name):\n",
        "        self.name = name\n",
        "    def __str__(self):\n",
        "        return f\"Person: {self.name}\"\n",
        "\n",
        "p = Person(\"Akankshya\")\n",
        "\n",
        "print(p)   # Person: Akankshya\n",
        "\n",
        "\n",
        "3. __len__ → Defines behavior of len()\n",
        "\n",
        "class Group:\n",
        "\n",
        "    def __init__(self, members):\n",
        "        self.members = members\n",
        "    def __len__(self):\n",
        "        return len(self.members)\n",
        "\n",
        "g = Group([\"A\", \"B\", \"C\"])\n",
        "\n",
        "print(len(g))  # 3\n",
        "\n",
        "\n",
        "4. __add__ → Defines behavior of + operator\n",
        "\n",
        "class Number:\n",
        "\n",
        "    def __init__(self, value):\n",
        "        self.value = value\n",
        "    def __add__(self, other):\n",
        "        return self.value + other.value\n",
        "\n",
        "n1 = Number(10)\n",
        "\n",
        "n2 = Number(20)\n",
        "\n",
        "print(n1 + n2)  # 30\n",
        "\n",
        "\n",
        "5. __getitem__ → Allows indexing like lists\n",
        "\n",
        "class MyList:\n",
        "\n",
        "    def __init__(self, items):\n",
        "        self.items = items\n",
        "    def __getitem__(self, index):\n",
        "        return self.items[index]\n",
        "\n",
        "ml = MyList([10, 20, 30])\n",
        "\n",
        "print(ml[1])  # 20"
      ],
      "metadata": {
        "id": "WDAjE3aaMbVa"
      }
    },
    {
      "cell_type": "markdown",
      "source": [
        "Q6. Explain the concept of inheritance in OOP?\n",
        "\n",
        "Ans:\n",
        "#What is Inheritance?\n",
        "- Inheritance is the mechanism in OOP that allows a class (child/derived class) to inherit properties and methods from another class (parent/base class).\n",
        "- It promotes code reusability and establishes a relationship between classes.\n",
        "\n",
        "Key Points:\n",
        "1. Parent/Base Class → The class whose features are inherited.\n",
        "2. Child/Derived Class → The class that inherits from the parent class.\n",
        "3. The child class can:\n",
        "- Use parent’s attributes and methods.\n",
        "- Add new attributes/methods.\n",
        "- Override parent’s methods.\n",
        "\n",
        "Types of Inheritance:\n",
        "1. Single Inheritance → Child inherits from one parent.\n",
        "2. Multiple Inheritance → Child inherits from more than one parent.\n",
        "3. Multilevel Inheritance → Child inherits from a parent, which itself is derived from another parent.\n",
        "4. Hierarchical Inheritance → Multiple child classes inherit from the same parent.\n",
        "5. Hybrid Inheritance → Combination of above types."
      ],
      "metadata": {
        "id": "Ul20XQL8NXPL"
      }
    },
    {
      "cell_type": "markdown",
      "source": [
        "Q7. What is polymorphism in OOP?\n",
        "\n",
        "Ans:\n",
        "#Polymorphism:\n",
        "The word Polymorphism comes from Greek:\n",
        "- Poly = many\n",
        "- Morph = forms\n",
        "\n",
        "In OOP, polymorphism allows the same function, method, or operator to behave differently depending on the object or context. It simply means \"one interface, many implementations.\"\n",
        "\n",
        "Types of Polymorphism in OOP:\n",
        "1. Compile-time polymorphism (Method Overloading / Operator Overloading)\n",
        "- Same function name but different parameter lists.\n",
        "- Python doesn’t support true method overloading but allows default arguments and operator overloading.\n",
        "\n",
        "2. Run-time polymorphism (Method Overriding)\n",
        "- A child class provides a specific implementation of a method already defined in the parent class.\n",
        "\n",
        "Key Benefits of Polymorphism:\n",
        "1. Increases flexibility and reusability.\n",
        "2. Makes code more readable and scalable.\n",
        "3. Supports extensibility → new classes can work seamlessly with existing code."
      ],
      "metadata": {
        "id": "6QKfrWZ2OZbE"
      }
    },
    {
      "cell_type": "markdown",
      "source": [
        "Q8. How is encapsulation achieved in Python?\n",
        "\n",
        "Ans:\n",
        "#Encapsulation in Python (Theory):\n",
        "- Encapsulation is one of the fundamental principles of Object-Oriented Programming (OOP).\n",
        "- It refers to the concept of wrapping data (variables) and methods (functions) into a single unit called a class and restricting direct access to some of the object’s components.\n",
        "- This ensures controlled access to data and protects it from accidental modification.\n",
        "\n",
        "In Python, encapsulation is achieved mainly through access modifiers:\n",
        "\n",
        "1. Public Members:\n",
        "- By default, all variables and methods in Python are public, meaning they can be accessed from anywhere in the program.\n",
        "2. Protected Members:\n",
        "- Defined by prefixing the variable or method name with a single underscore (_).\n",
        "- It is a convention that indicates the member is intended for internal use only, but Python does not strictly enforce this.\n",
        "- It can still be accessed outside the class, though it is discouraged.\n",
        "3. Private Members:\n",
        "- Defined by prefixing the variable or method name with two underscores (__).\n",
        "- These members cannot be accessed directly from outside the class.\n",
        "- Python uses a technique called name mangling (changing the variable name internally) to restrict direct access, thereby achieving true encapsulation.\n",
        "\n",
        "Additionally, encapsulation is supported through the use of getter and setter methods. These methods allow controlled access to private data, providing security and flexibility."
      ],
      "metadata": {
        "id": "ZDSKi2HTS2GB"
      }
    },
    {
      "cell_type": "markdown",
      "source": [
        "Q9. What is a constructor in Python?\n",
        "\n",
        "Ans:\n",
        "#Constructor in Python:\n",
        "- A constructor in Python is a special method in object-oriented programming that is automatically invoked when an object of a class is created.\n",
        "- Its primary purpose is to initialize the attributes (data members) of the object, ensuring that the object starts with a valid state.\n",
        "- In Python, the constructor is defined using the special method __init__().\n",
        "- The first parameter of this method is always self, which refers to the current instance of the class.\n",
        "- Additional parameters can be passed to assign specific values during object creation.\n",
        "\n",
        "There are two main types of constructors in Python:\n",
        "\n",
        "Default Constructor – A constructor without parameters, used to initialize objects with default values.\n",
        "\n",
        "Parameterized Constructor – A constructor that accepts arguments to initialize objects with user-defined values.\n",
        "\n",
        "Key Points:\n",
        "1. Name: Always __init__() (a dunder method).\n",
        "2. Automatic Call: Runs automatically when an object is created.\n",
        "3. Purpose: Initializes attributes of the object.\n",
        "4. Arguments: Takes self (refers to the object itself) and other parameters needed for initialization."
      ],
      "metadata": {
        "id": "6LygBmOcT1Er"
      }
    },
    {
      "cell_type": "markdown",
      "source": [
        "Q10. What are class and static methods in Python?\n",
        "\n",
        "Ans:\n",
        "#Class Methods:\n",
        "- A class method is a method that is bound to the class rather than its objects.\n",
        "- It takes cls (class itself) as the first parameter instead of self.\n",
        "- Defined using the @classmethod decorator.\n",
        "- Can access and modify class variables, but not instance variables.\n",
        "\n",
        "Example:\n",
        "\n",
        "class Student:\n",
        "\n",
        "    school = \"SOA University\"  # class variable\n",
        "\n",
        "    def __init__(self, name):\n",
        "        self.name = name  # instance variable\n",
        "\n",
        "    @classmethod\n",
        "    def get_school(cls):  # class method\n",
        "        return f\"School: {cls.school}\"\n",
        "\n",
        "print(Student.get_school())  # School: SOA University\n",
        "#Static Methods:\n",
        "- A static method does not take self or cls as a parameter.\n",
        "- It is like a normal function inside a class, but logically belongs to the class.\n",
        "- Defined using the @staticmethod decorator.\n",
        "- Cannot access class variables or instance variables directly — only works with arguments passed to it.\n",
        "\n",
        "Example:\n",
        "\n",
        "class MathUtils:\n",
        "\n",
        "    @staticmethod\n",
        "    def add(a, b):  # static method\n",
        "        return a + b\n",
        "\n",
        "print(MathUtils.add(5, 10))  # 15"
      ],
      "metadata": {
        "id": "tdb-zY9PUopu"
      }
    },
    {
      "cell_type": "markdown",
      "source": [
        "Q11. What is method overloading in Python?\n",
        "\n",
        "Ans:\n",
        "#Method Overloading in Python:\n",
        "- Method Overloading is an OOP concept where multiple methods in the same class share the same name but differ in the number or type of parameters.\n",
        "- It allows methods to perform different tasks based on the arguments passed.\n",
        "\n",
        "Python does not support true method overloading like Java or C++.\n",
        "In Python:\n",
        "- If we define multiple methods with the same name, the latest definition overrides the previous ones.\n",
        "- To achieve a similar effect, Python uses:\n",
        "1. Default arguments\n",
        "2. Variable-length arguments\n",
        "\n",
        "Example with Default Arguments:\n",
        "\n",
        "class Math:\n",
        "    def add(self, a=0, b=0, c=0):\n",
        "\n",
        "        return a + b + c\n",
        "\n",
        "m = Math()\n",
        "\n",
        "print(m.add(2, 3))      # 5\n",
        "\n",
        "print(m.add(2, 3, 4))   # 9\n",
        "\n",
        "Example with *args:\n",
        "\n",
        "class Math:\n",
        "    def add(self, *args):\n",
        "\n",
        "        return sum(args)\n",
        "\n",
        "m = Math()\n",
        "\n",
        "print(m.add(2, 3))        # 5\n",
        "\n",
        "print(m.add(2, 3, 4, 5))  # 14"
      ],
      "metadata": {
        "id": "2zxaQxyoVSvY"
      }
    },
    {
      "cell_type": "markdown",
      "source": [
        "Q12. What is method overriding in OOP?\n",
        "\n",
        "Ans:\n",
        "#Method Overriding:\n",
        "Method Overriding in Object-Oriented Programming is a feature that allows a child (subclass) to provide a new implementation of a method that is already defined in its parent (superclass).\n",
        "- The method name, parameters, and return type must be the same as in the parent class.\n",
        "- The child’s method replaces (overrides) the parent’s method at runtime.\n",
        "- It is an example of runtime polymorphism (behavior decided when the program runs).\n",
        "\n",
        "Key Points:\n",
        "- Defined in inheritance hierarchy (parent → child class).\n",
        "- Same method signature (name + arguments).\n",
        "- Helps achieve polymorphism (same method behaves differently for different objects).\n",
        "- Parent class method can still be accessed using super()."
      ],
      "metadata": {
        "id": "USCP4S-cWUYL"
      }
    },
    {
      "cell_type": "markdown",
      "source": [
        "Q13. What is a property decorator in Python?\n",
        "\n",
        "Ans:\n",
        "Property Decorator in Python:\n",
        "- In Python, the @property decorator is used to define a method as a property, allowing it to be accessed like an attribute while still implementing logic inside a method.\n",
        "\n",
        "It is mainly used for:\n",
        "1. Encapsulation – controlling access to private attributes.\n",
        "2. Getter, Setter, and Deleter functionality without explicitly calling methods.\n",
        "3. Making code look clean and Pythonic (attribute-style access instead of method calls).\n",
        "\n",
        "How it works:\n",
        "- A method defined with @property acts like a getter.\n",
        "- With @<property_name>.setter, you can define a setter method.\n",
        "- With @<property_name>.deleter, you can define a deleter method.\n",
        "\n",
        "Example:\n",
        "\n",
        "class Student:\n",
        "\n",
        "    def __init__(self, name):\n",
        "        self._name = name   # private attribute convention\n",
        "\n",
        "    @property\n",
        "    def name(self):        # getter\n",
        "        return self._name\n",
        "\n",
        "    @name.setter\n",
        "    def name(self, value): # setter\n",
        "        if len(value) < 3:\n",
        "            raise ValueError(\"Name must be at least 3 characters long.\")\n",
        "        self._name = value\n",
        "\n",
        "    @name.deleter\n",
        "    def name(self):        # deleter\n",
        "        print(\"Deleting name...\")\n",
        "        del self._name\n",
        "\n",
        "s = Student(\"Akankshya\")\n",
        "\n",
        "print(s.name)      # Access like an attribute (calls getter)\n",
        "\n",
        "s.name = \"Akku\"    # Calls setter\n",
        "print(s.name)\n",
        "\n",
        "del s.name         # Calls deleter\n"
      ],
      "metadata": {
        "id": "3ezzWCUiW_u3"
      }
    },
    {
      "cell_type": "markdown",
      "source": [
        "Q14. Why is polymorphism important in OOP?\n",
        "\n",
        "Ans:\n",
        "Polymorphism is Important in OOP:\n",
        "\n",
        "Polymorphism means \"many forms\" — it allows the same method, function, or operator to behave differently based on the object or data type it is applied to.\n",
        "\n",
        "Importance of Polymorphism in OOP:\n",
        "1. Code Reusability – Same interface can be used for different data types or classes, reducing code duplication.\n",
        "2. Flexibility & Extensibility – New classes can be added without changing existing code, as long as they follow the same interface.\n",
        "3. Improved Readability – Code looks cleaner and more intuitive since the same method name can represent different behaviors.\n",
        "4. Supports Abstraction – Programmers can use objects through a common interface without knowing the exact class implementation.\n",
        "5. Enables Dynamic Behavior – At runtime, objects determine which method to execute, making the system adaptable."
      ],
      "metadata": {
        "id": "Kz5R5U1p0QDR"
      }
    },
    {
      "cell_type": "markdown",
      "source": [
        "Q15. What is an abstract class in Python?\n",
        "\n",
        "Ans:\n",
        "Abstract Class in Python:\n",
        "- An abstract class in Python is a class that cannot be instantiated directly and is used as a blueprint for other classes.\n",
        "- It can define abstract methods (methods without implementation) that must be implemented by any subclass that inherits from it.\n",
        "- Python provides abstract classes using the abc (Abstract Base Class) module.\n",
        "\n",
        "Key Points:\n",
        "1. An abstract class is declared by inheriting from ABC (from abc module).\n",
        "2. Methods decorated with @abstractmethod must be implemented in child classes.\n",
        "3. Abstract classes can have both abstract methods (unimplemented) and concrete methods (with implementation).\n",
        "4. You cannot create objects of an abstract class directly.\n",
        "\n",
        "Example:\n",
        "\n",
        "from abc import ABC, abstractmethod\n",
        "\n",
        "class Animal(ABC):           # Abstract class\n",
        "\n",
        "    @abstractmethod\n",
        "    def make_sound(self):    # Abstract method\n",
        "        pass\n",
        "\n",
        "    def sleep(self):         # Concrete method\n",
        "        print(\"Sleeping...\")\n",
        "\n",
        "class Dog(Animal):\n",
        "\n",
        "    def make_sound(self):\n",
        "        print(\"Bark Bark\")\n",
        "\n",
        "class Cat(Animal):\n",
        "\n",
        "    def make_sound(self):\n",
        "        print(\"Meow Meow\")\n",
        "\n",
        "dog = Dog()\n",
        "\n",
        "dog.make_sound()   # Bark Bark\n",
        "\n",
        "dog.sleep()        # Sleeping..."
      ],
      "metadata": {
        "id": "JUrUVK7O0k8F"
      }
    },
    {
      "cell_type": "markdown",
      "source": [
        "Q16. What are the advantages of OOP?\n",
        "\n",
        "Ans:\n",
        "Advantages of Object-Oriented Programming (OOP):\n",
        "\n",
        "Object-Oriented Programming provides several benefits that make software development easier, more organized, and reusable.\n",
        "\n",
        "Main Advantages:\n",
        "1. Modularity (Code Organization):\n",
        "- Programs are divided into classes and objects, making them easier to structure and manage.\n",
        "2. Reusability:\n",
        "- Classes and objects can be reused across different programs, reducing duplication of code.\n",
        "3. Encapsulation (Data Security):\n",
        "- Sensitive data is hidden inside classes and accessed only through controlled methods, ensuring data protection.\n",
        "4. Abstraction (Simplification):\n",
        "- Hides complex implementation details and shows only essential features, making the system easier to use and understand.\n",
        "5. Polymorphism (Flexibility):\n",
        "- Same function or method can have different behaviors based on the object, improving flexibility and extensibility.\n",
        "6. Inheritance (Code Reuse & Extensibility):\n",
        "- New classes can be built upon existing ones, promoting code reuse and avoiding redundancy.\n",
        "7. Maintainability:\n",
        "- Since OOP provides modularity, debugging and updating specific parts of code becomes easier.\n",
        "8. Scalability:\n",
        "- OOP makes it easier to extend and scale applications by adding new classes and objects without affecting existing code."
      ],
      "metadata": {
        "id": "-X1PVfJz1L9j"
      }
    },
    {
      "cell_type": "markdown",
      "source": [
        "Q17. What is the difference between a class variable and an instance variable?\n",
        "\n",
        "Ans:\n",
        "Difference Between Class Variable and Instance Variable in Python:\n",
        "#Class Variable:\n",
        "- A variable that is shared by all objects of a class.\n",
        "- Declared inside the class but outside methods.\n",
        "- Stored at the class level (one copy for all objects).\n",
        "- Accessed using the class name or an object.\n",
        "- Change Effect\tChanging a class variable affects all objects of the class.\n",
        "\n",
        "#instance variable:\n",
        "- A variable that is unique to each object of a class.\n",
        "- Declared inside the constructor (__init__) or other methods using self.\n",
        "- Stored at the object level (separate copy for each object).\n",
        "- Accessed only using the object (self).\n",
        "- Changing an instance variable affects only that specific object."
      ],
      "metadata": {
        "id": "rHncAlau106B"
      }
    },
    {
      "cell_type": "markdown",
      "source": [
        "Q18. What is multiple inheritance in Python?\n",
        "\n",
        "Ans:\n",
        "Multiple Inheritance in Python:\n",
        "- Multiple inheritance is an object-oriented programming feature in which a class can inherit attributes and methods from more than one parent class.\n",
        "- In Python, this allows a child class to combine the functionality of multiple base classes.\n",
        "\n",
        "Syntax\n",
        "class Parent1:\n",
        "    # code\n",
        "\n",
        "class Parent2:\n",
        "    # code\n",
        "\n",
        "class Child(Parent1, Parent2):\n",
        "    # code\n",
        "\n",
        "✅ Example\n",
        "\n",
        "class Teacher:\n",
        "\n",
        "    def teach(self):\n",
        "        print(\"Teaching...\")\n",
        "\n",
        "class Mentor:\n",
        "\n",
        "    def guide(self):\n",
        "        print(\"Guiding...\")\n",
        "\n",
        "class Student(Teacher, Mentor):\n",
        "\n",
        "    def study(self):\n",
        "        print(\"Studying...\")\n",
        "\n",
        "s = Student() # Object of Student\n",
        "\n",
        "s.teach()   # Inherited from Teacher\n",
        "\n",
        "s.guide()   # Inherited from Mentor\n",
        "\n",
        "s.study()   # Own method\n",
        "\n",
        "Key Points:\n",
        "- The child class inherits from multiple base classes.\n",
        "- Python uses Method Resolution Order (MRO) to decide the order in which base classes are searched for methods/attributes.\n",
        "- MRO follows the C3 Linearization algorithm.\n",
        "\n",
        "Advantages:\n",
        "- Promotes code reusability by combining features of multiple classes.\n",
        "- Allows a child class to gain multiple functionalities at once.\n",
        "\n",
        "Disadvantage:\n",
        "- Can cause ambiguity problems (like the diamond problem), which Python resolves using MRO."
      ],
      "metadata": {
        "id": "V1n6C5z828pL"
      }
    },
    {
      "cell_type": "markdown",
      "source": [
        "Q19. Explain the purpose of \"__str__' and '__repr__\" methods in Python?\n",
        "\n",
        "Ans:\n",
        "In Python, both __str__ and __repr__ are dunder (double underscore) methods used to define how objects of a class are represented as strings. But they serve different purposes:\n",
        "\n",
        "__str__ Method:\n",
        "- Purpose: Provides a human-readable representation of the object (for end-users).\n",
        "- Called when we use str(object) or print(object).\n",
        "- Should return a friendly, easy-to-read string.\n",
        "\n",
        "Example:\n",
        "\n",
        "class Student:\n",
        "\n",
        "    def __init__(self, name, age):\n",
        "        self.name = name\n",
        "        self.age = age\n",
        "\n",
        "    def __str__(self):\n",
        "        return f\"Student Name: {self.name}, Age: {self.age}\"\n",
        "\n",
        "s = Student(\"Akankshya\", 22)\n",
        "\n",
        "print(s)   # Uses __str__\n",
        "\n",
        " __repr__ Method:\n",
        "- Purpose: Provides an unambiguous string representation of the object (for developers/debugging).\n",
        "- Called when we use repr(object) or type the object directly in the interpreter.\n",
        "- Ideally, it should return a string that could recreate the object if passed to eval().\n",
        "\n",
        "Example:\n",
        "\n",
        "class Student:\n",
        "\n",
        "    def __init__(self, name, age):\n",
        "        self.name = name\n",
        "        self.age = age\n",
        "\n",
        "    def __repr__(self):\n",
        "        return f\"Student('{self.name}', {self.age})\"\n",
        "\n",
        "s = Student(\"Akankshya\", 22)\n",
        "\n",
        "print(repr(s))   # Uses __repr__"
      ],
      "metadata": {
        "id": "8R4jvrXx3pI-"
      }
    },
    {
      "cell_type": "markdown",
      "source": [
        "Q20. What is the significance of the ‘super()’ function in Python?\n",
        "\n",
        "Ans:\n",
        "The super() function in Python is mainly used in object-oriented programming to refer to the parent (superclass) of a class without explicitly naming it. It is especially useful when working with inheritance.\n",
        "\n",
        "Significance of super():\n",
        "\n",
        "1. Access parent class methods and constructors\n",
        "- It allows a child (subclass) to call methods or the constructor (__init__) of its parent class.\n",
        "2. Avoids hardcoding the parent class name\n",
        "- This makes the code more maintainable, especially in case of multiple inheritance.\n",
        "3. Supports Method Resolution Order (MRO)\n",
        "- In multiple inheritance, Python follows the MRO (C3 linearization). super() ensures that the next class in the MRO is called, not necessarily the immediate parent.\n",
        "4. Prevents code duplication\n",
        "- Instead of rewriting parent class logic, super() allows reusing it."
      ],
      "metadata": {
        "id": "IV8kE3xy4zTU"
      }
    },
    {
      "cell_type": "markdown",
      "source": [
        "Q21. What is the significance of the __del__ method in Python?\n",
        "\n",
        "Ans:\n",
        "The __del__ method is known as the destructor method. It is called when an object is about to be destroyed (i.e., when it is no longer in use and the garbage collector is about to reclaim its memory).\n",
        "\n",
        "Significance of __del__:\n",
        "1. Resource cleanup\n",
        "- It allows you to define cleanup actions before an object is destroyed, such as closing files, releasing network connections, or freeing up external resources.\n",
        "2. Automatic invocation\n",
        "- Python automatically calls __del__ when the object’s reference count becomes zero, meaning no variable refers to it anymore.\n",
        "3. Acts like a destructor in other OOP languages\n",
        "- Similar to destructors in C++ or Java’s finalize(), but with some differences since Python relies on garbage collection.\n",
        "\n",
        "Not guaranteed to be called immediately: Unlike C++ destructors, Python’s __del__ may not be called immediately after an object goes out of scope (depends on garbage collection).\n",
        "\n",
        "Cyclic references: If objects reference each other, __del__ may not be called automatically.\n",
        "\n",
        "Better alternative: For predictable cleanup, it’s often better to use context managers (with statement) and the __enter__ and __exit__ methods.\n",
        "\n",
        "- The __del__ method in Python is used for object cleanup before destruction, mainly for releasing external resources. However, due to garbage collection behavior, it is less predictable than destructors in other languages, and context managers are usually preferred."
      ],
      "metadata": {
        "id": "JvdNwjgi5T7u"
      }
    },
    {
      "cell_type": "markdown",
      "source": [
        "Q22. What is the difference between @staticmethod and @classmethod in Python?\n",
        "\n",
        "Ans:\n",
        "1. @staticmethod\n",
        "- A static method does not take self or cls as the first parameter.\n",
        "- It does not depend on the instance (self) or the class (cls).\n",
        "- It behaves like a regular function, but it belongs to the class’s namespace.\n",
        "- Used when some functionality is logically related to the class but does not need to access class/instance data.\n",
        "\n",
        "Example:\n",
        "\n",
        "class MathUtils:\n",
        "\n",
        "    @staticmethod\n",
        "    def add(a, b):\n",
        "        return a + b\n",
        "\n",
        "print(MathUtils.add(5, 3))   # 8\n",
        "\n",
        "- Here, add() does not need access to class or object data — it just performs addition.\n",
        "\n",
        "2. @classmethod\n",
        "- A class method takes cls (the class itself) as the first parameter instead of self.\n",
        "- It can access and modify class variables shared across all instances.\n",
        "- Useful when you want to define factory methods or work with class-level data.\n",
        "\n",
        "Example:\n",
        "\n",
        "class Student:\n",
        "\n",
        "    school_name = \"ABC School\"\n",
        "\n",
        "    def __init__(self, name):\n",
        "        self.name = name\n",
        "\n",
        "    @classmethod\n",
        "    def change_school(cls, new_name):\n",
        "        cls.school_name = new_name\n",
        "\n",
        "Student.change_school(\"XYZ School\")\n",
        "\n",
        "print(Student.school_name)  # XYZ School"
      ],
      "metadata": {
        "id": "-D5nEsQS7TqE"
      }
    },
    {
      "cell_type": "markdown",
      "source": [
        "Q23. How does polymorphism work in Python with inheritance?\n",
        "\n",
        "Ans:\n",
        "- Polymorphism in Python with inheritance means that a child class can redefine or override methods of its parent class, and when those methods are called, the object’s actual class (not the reference type) decides which method is executed.\n",
        "\n",
        "How It Works:\n",
        "- A base (parent) class defines a method.\n",
        "- Derived (child) classes can override this method with their own implementation.\n",
        "- When you call the method on an object, Python will check the object’s class and run the appropriate version.\n",
        "\n",
        "Example: Polymorphism with Inheritance\n",
        "\n",
        "class Animal:\n",
        "\n",
        "    def speak(self):\n",
        "        return \"Some sound\"\n",
        "\n",
        "class Dog(Animal):\n",
        "\n",
        "    def speak(self):\n",
        "        return \"Woof!\"\n",
        "\n",
        "class Cat(Animal):\n",
        "\n",
        "    def speak(self):\n",
        "        return \"Meow!\"\n",
        "\n",
        "animals = [Dog(), Cat(), Animal()]\n",
        "\n",
        "for animal in animals:\n",
        "\n",
        "    print(animal.speak())\n",
        "\n",
        "- The speak() method is inherited from Animal,\n",
        "- But overridden in Dog and Cat.\n",
        "- The correct method is chosen at runtime depending on the object type.\n",
        "\n",
        "Why Is This Useful?\n",
        "- It allows writing flexible and reusable code.\n",
        "- You can treat objects of different classes in a uniform way, while still getting their specific behavior.\n",
        "\n",
        "Example:\n",
        "- You don’t need to care whether an object is a Dog or Cat; you just call animal.speak() and Python handles the rest."
      ],
      "metadata": {
        "id": "oTrcJokX76Sd"
      }
    },
    {
      "cell_type": "markdown",
      "source": [
        "Q24. What is method chaining in Python OOP?\n",
        "\n",
        "Ans:\n",
        "Method Chaining in Python OOP:\n",
        "- Method chaining is an object-oriented programming technique where multiple methods are called sequentially on the same object in a single line of code.\n",
        "- Each method returns the object itself (usually self), so the next method can be called immediately.\n",
        "\n",
        "How It Works:\n",
        "- Normally, methods return a value (string, number, etc.).\n",
        "- In method chaining, methods return the object (self).\n",
        "- This allows calling another method directly after the previous one.\n",
        "\n",
        "Example: Without Method Chaining\n",
        "\n",
        "class Calculator:\n",
        "\n",
        "    def __init__(self, value=0):\n",
        "        self.value = value\n",
        "\n",
        "    def add(self, x):\n",
        "        self.value += x\n",
        "        return self\n",
        "\n",
        "    def multiply(self, x):\n",
        "        self.value *= x\n",
        "        return self\n",
        "\n",
        "    def subtract(self, x):\n",
        "        self.value -= x\n",
        "        return self\n",
        "\n",
        "calc = Calculator()\n",
        "\n",
        "calc.add(10)\n",
        "\n",
        "calc.multiply(2)\n",
        "\n",
        "calc.subtract(5)\n",
        "\n",
        "print(calc.value)   # 15\n",
        "\n",
        "Example: With Method Chaining:\n",
        "\n",
        "calc = Calculator()\n",
        "\n",
        "result = calc.add(10).multiply(2).subtract(5).value\n",
        "\n",
        "print(result)   # 15\n",
        "\n",
        "Advantages of Method Chaining:\n",
        "- Cleaner and more readable code.\n",
        "- Compact style (operations written in a single line).\n",
        "- Encourages a fluent interface design."
      ],
      "metadata": {
        "id": "mcNqHnLJ8oUi"
      }
    },
    {
      "cell_type": "markdown",
      "source": [
        "Q25. What is the purpose of the __call__ method in Python?\n",
        "\n",
        "Ans:\n",
        "#__call__ Method in Python\n",
        "- The __call__ method in Python allows an instance of a class to be called like a function.\n",
        "- When you define __call__ inside a class, you can use the object itself as if it were a function — by adding parentheses () after the object.\n",
        "\n",
        "Purpose of __call__:\n",
        "1.Make objects behave like functions\n",
        "- You can call an object just like a normal function.\n",
        "2. Increase flexibility\n",
        "- Useful when you want an object to retain state (like a class) but also act like a function.\n",
        "3. Used in advanced Python programming\n",
        "- Often seen in decorators, machine learning models (e.g., PyTorch, TensorFlow layers), and function wrappers.\n",
        "\n",
        "The object double works like a function that doubles a number.\n",
        "\n",
        "The object triple works like a function that triples a number."
      ],
      "metadata": {
        "id": "55ktYRGQ9goF"
      }
    },
    {
      "cell_type": "code",
      "source": [
        "#Q1. Create a parent class Animal with a method speak() that prints a generic message. Create a child class Dog that overrides the speak() method to print \"Bark!\".\n",
        "class Animal:\n",
        "    def speak(self):\n",
        "        print(\"This animal makes a sound.\")\n",
        "\n",
        "class Dog(Animal):\n",
        "    def speak(self):\n",
        "        print(\"Bark!\")\n",
        "\n",
        "dog = Dog()\n",
        "dog.speak()"
      ],
      "metadata": {
        "colab": {
          "base_uri": "https://localhost:8080/"
        },
        "id": "_kja1kMV_GK9",
        "outputId": "06b6565d-9455-407e-be1e-79b9c205ca33"
      },
      "execution_count": 1,
      "outputs": [
        {
          "output_type": "stream",
          "name": "stdout",
          "text": [
            "Bark!\n"
          ]
        }
      ]
    },
    {
      "cell_type": "code",
      "source": [
        "#Q2.Write a program to create an abstract class Shape with a method area(). Derive classes Circle and Rectangle from it and implement the area() method in both.]\n",
        "from abc import ABC, abstractmethod\n",
        "\n",
        "class Shape(ABC):\n",
        "    @abstractmethod\n",
        "    def area(self):\n",
        "        pass\n",
        "\n",
        "class Circle(Shape):\n",
        "    def __init__(self, radius):\n",
        "        self.radius = radius\n",
        "\n",
        "    def area(self):\n",
        "        return 3.14 * self.radius * self.radius\n",
        "\n",
        "class Rectangle(Shape):\n",
        "    def __init__(self, length, width):\n",
        "        self.length = length\n",
        "        self.width = width\n",
        "\n",
        "    def area(self):\n",
        "        return self.length * self.width\n",
        "\n",
        "circle = Circle(5)\n",
        "rect = Rectangle(4, 6)\n",
        "print(\"Circle area:\", circle.area())\n",
        "print(\"Rectangle area:\", rect.area())\n"
      ],
      "metadata": {
        "colab": {
          "base_uri": "https://localhost:8080/"
        },
        "id": "iOgm2FbN_GOT",
        "outputId": "e3cc3e5b-693b-4365-9930-03440ce6eee3"
      },
      "execution_count": 2,
      "outputs": [
        {
          "output_type": "stream",
          "name": "stdout",
          "text": [
            "Circle area: 78.5\n",
            "Rectangle area: 24\n"
          ]
        }
      ]
    },
    {
      "cell_type": "code",
      "source": [
        "#Q3.Implement a multi-level inheritance scenario where a class Vehicle has an attribute type. Derive a class Car and further derive a class ElectricCar that adds a battery attribute.\n",
        "\n",
        "class Vehicle:\n",
        "    def __init__(self, v_type):\n",
        "        self.type = v_type\n",
        "\n",
        "class Car(Vehicle):\n",
        "    def __init__(self, v_type, brand):\n",
        "        super().__init__(v_type)\n",
        "        self.brand = brand\n",
        "\n",
        "class ElectricCar(Car):\n",
        "    def __init__(self, v_type, brand, battery):\n",
        "        super().__init__(v_type, brand)\n",
        "        self.battery = battery\n",
        "\n",
        "tesla = ElectricCar(\"Car\", \"Tesla\", \"100 kWh\")\n",
        "print(tesla.type, tesla.brand, tesla.battery)\n"
      ],
      "metadata": {
        "colab": {
          "base_uri": "https://localhost:8080/"
        },
        "id": "9fhTOx_2_GX2",
        "outputId": "b245beea-3dab-465e-a15f-466c06646ca0"
      },
      "execution_count": 3,
      "outputs": [
        {
          "output_type": "stream",
          "name": "stdout",
          "text": [
            "Car Tesla 100 kWh\n"
          ]
        }
      ]
    },
    {
      "cell_type": "code",
      "source": [
        "#Q4.Demonstrate polymorphism by creating a base class Bird with a method fly(). Create two derived classes Sparrow and Penguin that override the fly() method.\n",
        "class Bird:\n",
        "    def fly(self):\n",
        "        print(\"Some birds can fly.\")\n",
        "\n",
        "class Sparrow(Bird):\n",
        "    def fly(self):\n",
        "        print(\"Sparrow can fly high!\")\n",
        "\n",
        "class Penguin(Bird):\n",
        "    def fly(self):\n",
        "        print(\"Penguins cannot fly.\")\n",
        "\n",
        "birds = [Sparrow(), Penguin()]\n",
        "for b in birds:\n",
        "    b.fly()\n",
        "\n"
      ],
      "metadata": {
        "colab": {
          "base_uri": "https://localhost:8080/"
        },
        "id": "WavgcaXt_Gil",
        "outputId": "22e36794-19c9-4932-95a7-00e5ea1760ae"
      },
      "execution_count": 4,
      "outputs": [
        {
          "output_type": "stream",
          "name": "stdout",
          "text": [
            "Sparrow can fly high!\n",
            "Penguins cannot fly.\n"
          ]
        }
      ]
    },
    {
      "cell_type": "code",
      "source": [
        "#Q5. Write a program to demonstrate encapsulation by creating a class BankAccount with private attributes balance and methods to deposit, withdraw, and check balance.\n",
        "\n",
        "class BankAccount:\n",
        "    def __init__(self, balance=0):\n",
        "        self.__balance = balance  # private attribute\n",
        "\n",
        "    def deposit(self, amount):\n",
        "        self.__balance += amount\n",
        "\n",
        "    def withdraw(self, amount):\n",
        "        if amount <= self.__balance:\n",
        "            self.__balance -= amount\n",
        "        else:\n",
        "            print(\"Insufficient funds\")\n",
        "\n",
        "    def check_balance(self):\n",
        "        return self.__balance\n",
        "\n",
        "acc = BankAccount(1000)\n",
        "acc.deposit(500)\n",
        "acc.withdraw(200)\n",
        "print(\"Balance:\", acc.check_balance())\n"
      ],
      "metadata": {
        "colab": {
          "base_uri": "https://localhost:8080/"
        },
        "id": "prXlneKG_Gpt",
        "outputId": "45aeba05-8205-4fc4-f07a-6b3ce977fd8e"
      },
      "execution_count": 5,
      "outputs": [
        {
          "output_type": "stream",
          "name": "stdout",
          "text": [
            "Balance: 1300\n"
          ]
        }
      ]
    },
    {
      "cell_type": "code",
      "source": [
        "#Q6.Demonstrate runtime polymorphism using a method play() in a base class Instrument. Derive classes Guitar and Piano that implement their own version of play().\n",
        "\n",
        "class Instrument:\n",
        "    def play(self):\n",
        "        print(\"Playing an instrument...\")\n",
        "\n",
        "class Guitar(Instrument):\n",
        "    def play(self):\n",
        "        print(\"Strumming the guitar!\")\n",
        "\n",
        "class Piano(Instrument):\n",
        "    def play(self):\n",
        "        print(\"Playing the piano!\")\n",
        "\n",
        "instruments = [Guitar(), Piano()]\n",
        "for i in instruments:\n",
        "    i.play()\n"
      ],
      "metadata": {
        "colab": {
          "base_uri": "https://localhost:8080/"
        },
        "id": "3A5dBGk6_GwE",
        "outputId": "9440b93c-20d4-463b-db01-dad1d392151e"
      },
      "execution_count": 6,
      "outputs": [
        {
          "output_type": "stream",
          "name": "stdout",
          "text": [
            "Strumming the guitar!\n",
            "Playing the piano!\n"
          ]
        }
      ]
    },
    {
      "cell_type": "code",
      "source": [
        "#Q7.Create a class MathOperations with a class method add_numbers() to add two numbers and a static method subtract_numbers() to subtract two numbers.\n",
        "\n",
        "class MathOperations:\n",
        "    @classmethod\n",
        "    def add_numbers(cls, a, b):\n",
        "        return a + b\n",
        "\n",
        "    @staticmethod\n",
        "    def subtract_numbers(a, b):\n",
        "        return a - b\n",
        "\n",
        "print(\"Addition:\", MathOperations.add_numbers(5, 3))\n",
        "print(\"Subtraction:\", MathOperations.subtract_numbers(5, 3))\n"
      ],
      "metadata": {
        "colab": {
          "base_uri": "https://localhost:8080/"
        },
        "id": "m9ylFr8-_G3w",
        "outputId": "b4765f00-636b-4a38-b41d-2b2186dc3906"
      },
      "execution_count": 7,
      "outputs": [
        {
          "output_type": "stream",
          "name": "stdout",
          "text": [
            "Addition: 8\n",
            "Subtraction: 2\n"
          ]
        }
      ]
    },
    {
      "cell_type": "code",
      "source": [
        "#Q8.Implement a class Person with a class method to count the total number of persons created.\n",
        "class Person:\n",
        "    count = 0\n",
        "\n",
        "    def __init__(self, name):\n",
        "        self.name = name\n",
        "        Person.count += 1\n",
        "\n",
        "    @classmethod\n",
        "    def total_persons(cls):\n",
        "        return cls.count\n",
        "\n",
        "p1 = Person(\"A\")\n",
        "p2 = Person(\"B\")\n",
        "print(\"Total persons:\", Person.total_persons())\n",
        "\n"
      ],
      "metadata": {
        "colab": {
          "base_uri": "https://localhost:8080/"
        },
        "id": "aDBrRVBE_HCy",
        "outputId": "d78d0a05-7b6e-4fd3-8ee1-d6c088018c82"
      },
      "execution_count": 8,
      "outputs": [
        {
          "output_type": "stream",
          "name": "stdout",
          "text": [
            "Total persons: 2\n"
          ]
        }
      ]
    },
    {
      "cell_type": "code",
      "source": [
        "#Q9.Write a class Fraction with attributes numerator and denominator. Override the str method to display the fraction as \"numerator/denominator\".\n",
        "\n",
        "class Fraction:\n",
        "    def __init__(self, numerator, denominator):\n",
        "        self.numerator = numerator\n",
        "        self.denominator = denominator\n",
        "\n",
        "    def __str__(self):\n",
        "        return f\"{self.numerator}/{self.denominator}\"\n",
        "\n",
        "frac = Fraction(3, 4)\n",
        "print(frac)\n",
        "\n"
      ],
      "metadata": {
        "colab": {
          "base_uri": "https://localhost:8080/"
        },
        "id": "heuEw7Ui_HLs",
        "outputId": "e4f30fb6-6238-4431-fad4-ca8e0319db5c"
      },
      "execution_count": 9,
      "outputs": [
        {
          "output_type": "stream",
          "name": "stdout",
          "text": [
            "3/4\n"
          ]
        }
      ]
    },
    {
      "cell_type": "code",
      "source": [
        "#Q10.Demonstrate operator overloading by creating a class Vector and overriding the add method to add two vectors.\n",
        "\n",
        "class Vector:\n",
        "    def __init__(self, x, y):\n",
        "        self.x = x\n",
        "        self.y = y\n",
        "\n",
        "    def __add__(self, other):\n",
        "        return Vector(self.x + other.x, self.y + other.y)\n",
        "\n",
        "    def __str__(self):\n",
        "        return f\"({self.x}, {self.y})\"\n",
        "\n",
        "v1 = Vector(2, 3)\n",
        "v2 = Vector(4, 5)\n",
        "print(v1 + v2)\n"
      ],
      "metadata": {
        "colab": {
          "base_uri": "https://localhost:8080/"
        },
        "id": "v2fHD2ZC_HSc",
        "outputId": "252ec5e7-6f08-4f17-b838-a5fae3f66a4e"
      },
      "execution_count": 10,
      "outputs": [
        {
          "output_type": "stream",
          "name": "stdout",
          "text": [
            "(6, 8)\n"
          ]
        }
      ]
    },
    {
      "cell_type": "code",
      "source": [
        "#Q11. Create a class Person with attributes name and age. Add a method greet() that prints \"Hello, my name is {name} and I am {age} years old.\"\n",
        "\n",
        "class Person:\n",
        "    def __init__(self, name, age):\n",
        "        self.name = name\n",
        "        self.age = age\n",
        "\n",
        "    def greet(self):\n",
        "        print(f\"Hello, my name is {self.name} and I am {self.age} years old.\")\n",
        "\n",
        "p = Person(\"Akankshya\", 22)\n",
        "p.greet()\n"
      ],
      "metadata": {
        "colab": {
          "base_uri": "https://localhost:8080/"
        },
        "id": "kLyOhETEBVfN",
        "outputId": "c1b3ca5a-4e7b-44d8-a74b-ae72abfd02d9"
      },
      "execution_count": 11,
      "outputs": [
        {
          "output_type": "stream",
          "name": "stdout",
          "text": [
            "Hello, my name is Akankshya and I am 22 years old.\n"
          ]
        }
      ]
    },
    {
      "cell_type": "code",
      "source": [
        "#Q12.Implement a class Student with attributes name and grades. Create a method average_grade() to compute the average of the grades.\n",
        "\n",
        "class Student:\n",
        "    def __init__(self, name, grades):\n",
        "        self.name = name\n",
        "        self.grades = grades\n",
        "\n",
        "    def average_grade(self):\n",
        "        return sum(self.grades) / len(self.grades)\n",
        "\n",
        "s = Student(\"Akankshya\", [90, 85, 88])\n",
        "print(\"Average grade:\", s.average_grade())\n",
        "\n"
      ],
      "metadata": {
        "colab": {
          "base_uri": "https://localhost:8080/"
        },
        "id": "IghsAo-FBVwr",
        "outputId": "e951bfd9-3bd4-41f9-87a6-4f4c2fe0da88"
      },
      "execution_count": 13,
      "outputs": [
        {
          "output_type": "stream",
          "name": "stdout",
          "text": [
            "Average grade: 87.66666666666667\n"
          ]
        }
      ]
    },
    {
      "cell_type": "code",
      "source": [
        "#Q13.Create a class Rectangle with methods set_dimensions() to set the dimensions and area() to calculate the area.\n",
        "class Rectangle:\n",
        "    def set_dimensions(self, length, width):\n",
        "        self.length = length\n",
        "        self.width = width\n",
        "\n",
        "    def area(self):\n",
        "        return self.length * self.width\n",
        "\n",
        "rect = Rectangle()\n",
        "rect.set_dimensions(5, 6)\n",
        "print(\"Area:\", rect.area())\n",
        "\n"
      ],
      "metadata": {
        "colab": {
          "base_uri": "https://localhost:8080/"
        },
        "id": "y89Ful4OBV_o",
        "outputId": "03951bc9-077b-4b26-9996-03565ea8a2e4"
      },
      "execution_count": 12,
      "outputs": [
        {
          "output_type": "stream",
          "name": "stdout",
          "text": [
            "Area: 30\n"
          ]
        }
      ]
    },
    {
      "cell_type": "code",
      "source": [
        "#Q14.Create a class Employee with a method calculate_salary() that computes the salary based on hours worked and hourly rate. Create a derived class Manager that adds a bonus to the salary.\n",
        "\n",
        "class Employee:\n",
        "    def calculate_salary(self, hours, rate):\n",
        "        return hours * rate\n",
        "\n",
        "class Manager(Employee):\n",
        "    def calculate_salary(self, hours, rate, bonus=0):\n",
        "        return super().calculate_salary(hours, rate) + bonus\n",
        "\n",
        "emp = Employee()\n",
        "mgr = Manager()\n",
        "print(\"Employee salary:\", emp.calculate_salary(40, 50))\n",
        "print(\"Manager salary:\", mgr.calculate_salary(40, 50, 500))\n"
      ],
      "metadata": {
        "colab": {
          "base_uri": "https://localhost:8080/"
        },
        "id": "WL8Vou9SBWPO",
        "outputId": "c1225fe3-ef50-4515-9e17-1f57131f795e"
      },
      "execution_count": 14,
      "outputs": [
        {
          "output_type": "stream",
          "name": "stdout",
          "text": [
            "Employee salary: 2000\n",
            "Manager salary: 2500\n"
          ]
        }
      ]
    },
    {
      "cell_type": "code",
      "source": [
        "#Q15.Create a class Product with attributes name, price, and quantity. Implement a method total_price() that calculates the total price of the product.\n",
        "class Product:\n",
        "    def __init__(self, name, price, quantity):\n",
        "        self.name = name\n",
        "        self.price = price\n",
        "        self.quantity = quantity\n",
        "\n",
        "    def total_price(self):\n",
        "        return self.price * self.quantity\n",
        "\n",
        "p = Product(\"Laptop\", 50000, 2)\n",
        "print(\"Total Price:\", p.total_price())\n"
      ],
      "metadata": {
        "colab": {
          "base_uri": "https://localhost:8080/"
        },
        "id": "jYflWfU4BZaL",
        "outputId": "d860f316-bdda-45c3-e426-d307342ac7eb"
      },
      "execution_count": 15,
      "outputs": [
        {
          "output_type": "stream",
          "name": "stdout",
          "text": [
            "Total Price: 100000\n"
          ]
        }
      ]
    },
    {
      "cell_type": "code",
      "source": [
        "#Q16.Create a class Animal with an abstract method sound(). Create two derived classes Cow and Sheep that implement the sound() method.\n",
        "\n",
        "from abc import ABC, abstractmethod\n",
        "\n",
        "class Animal(ABC):\n",
        "    @abstractmethod\n",
        "    def sound(self):\n",
        "        pass\n",
        "\n",
        "class Cow(Animal):\n",
        "    def sound(self):\n",
        "        return \"Moo\"\n",
        "\n",
        "class Sheep(Animal):\n",
        "    def sound(self):\n",
        "        return \"Baa\"\n",
        "\n",
        "cow = Cow()\n",
        "sheep = Sheep()\n",
        "print(\"Cow sound:\", cow.sound())\n",
        "print(\"Sheep sound:\", sheep.sound())\n",
        "\n"
      ],
      "metadata": {
        "colab": {
          "base_uri": "https://localhost:8080/"
        },
        "id": "dVm7HcaPBZns",
        "outputId": "b5359219-9985-4d0f-b22a-6d2c8d02665a"
      },
      "execution_count": 16,
      "outputs": [
        {
          "output_type": "stream",
          "name": "stdout",
          "text": [
            "Cow sound: Moo\n",
            "Sheep sound: Baa\n"
          ]
        }
      ]
    },
    {
      "cell_type": "code",
      "source": [
        "#Q17.Create a class Book with attributes title, author, and year_published. Add a method get_book_info() that returns a formatted string with the book's details.\n",
        "\n",
        "class Book:\n",
        "    def __init__(self, title, author, year_published):\n",
        "        self.title = title\n",
        "        self.author = author\n",
        "        self.year_published = year_published\n",
        "\n",
        "    def get_book_info(self):\n",
        "        return f\"'{self.title}' by {self.author}, published in {self.year_published}\"\n",
        "\n",
        "b = Book(\"Python Programming\", \"John Doe\", 2021)\n",
        "print(b.get_book_info())\n"
      ],
      "metadata": {
        "colab": {
          "base_uri": "https://localhost:8080/"
        },
        "id": "x3GnDjoEBtth",
        "outputId": "c2e1b199-69c4-4e51-96ed-bd03c308b7cf"
      },
      "execution_count": 17,
      "outputs": [
        {
          "output_type": "stream",
          "name": "stdout",
          "text": [
            "'Python Programming' by John Doe, published in 2021\n"
          ]
        }
      ]
    },
    {
      "cell_type": "code",
      "source": [
        "#Q18.Create a class House with attributes address and price. Create a derived class Mansion that adds an attribute number_of_rooms.\n",
        "\n",
        "class House:\n",
        "    def __init__(self, address, price):\n",
        "        self.address = address\n",
        "        self.price = price\n",
        "\n",
        "class Mansion(House):\n",
        "    def __init__(self, address, price, number_of_rooms):\n",
        "        super().__init__(address, price)\n",
        "        self.number_of_rooms = number_of_rooms\n",
        "\n",
        "m = Mansion(\"123 Street, NY\", 2000000, 12)\n",
        "print(f\"Mansion Address: {m.address}, Price: {m.price}, Rooms: {m.number_of_rooms}\")\n"
      ],
      "metadata": {
        "colab": {
          "base_uri": "https://localhost:8080/"
        },
        "id": "_gmS1FbxBt5R",
        "outputId": "4b9d504f-1d64-4d80-e5a2-c45f874e792c"
      },
      "execution_count": 18,
      "outputs": [
        {
          "output_type": "stream",
          "name": "stdout",
          "text": [
            "Mansion Address: 123 Street, NY, Price: 2000000, Rooms: 12\n"
          ]
        }
      ]
    }
  ]
}